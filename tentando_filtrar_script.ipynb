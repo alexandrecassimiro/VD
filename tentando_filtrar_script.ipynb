{
  "nbformat": 4,
  "nbformat_minor": 0,
  "metadata": {
    "colab": {
      "provenance": [],
      "authorship_tag": "ABX9TyNEQdZjQeXp5IsfLNS1ekK4",
      "include_colab_link": true
    },
    "kernelspec": {
      "name": "python3",
      "display_name": "Python 3"
    },
    "language_info": {
      "name": "python"
    }
  },
  "cells": [
    {
      "cell_type": "markdown",
      "metadata": {
        "id": "view-in-github",
        "colab_type": "text"
      },
      "source": [
        "<a href=\"https://colab.research.google.com/github/alexandrecassimiro/VD/blob/main/tentando_filtrar_script.ipynb\" target=\"_parent\"><img src=\"https://colab.research.google.com/assets/colab-badge.svg\" alt=\"Open In Colab\"/></a>"
      ]
    },
    {
      "cell_type": "code",
      "source": [
        "import json\n",
        "\n",
        "\n",
        "# Ler o arquivo JSON com as informações sobre as séries e episódios\n",
        "with open('/content/all_series_lines.json', 'r') as f:\n",
        "    all_series_line = json.load(f)\n",
        "\n",
        "# Criar um novo dicionário para armazenar as informações filtradas\n",
        "filtered_series_line = {}\n",
        "\n",
        "# Verificar se a série ENT existe no arquivo original\n",
        "if 'ENT' in all_series_line:\n",
        "    # Verificar se o episódio 0 existe na série ENT\n",
        "    if '0' in all_series_line['ENT']:\n",
        "        # Verificar se o personagem KLAANG existe no episódio 0 da série ENT\n",
        "        if 'KLAANG' in all_series_line['ENT']['0']:\n",
        "            # Adicionar as informações do personagem KLAANG ao dicionário filtrado\n",
        "            filtered_series_line['ENT'] = {'0': {'KLAANG': all_series_line['ENT']['0']['KLAANG']}}\n",
        "\n",
        "# Escrever as informações filtradas em um novo arquivo JSON\n",
        "with open('filtered_series_line.json', 'w') as f:\n",
        "    json.dump(filtered_series_line, f)\n"
      ],
      "metadata": {
        "id": "d9vxmZAnMye-"
      },
      "execution_count": null,
      "outputs": []
    },
    {
      "cell_type": "code",
      "source": [
        "# Filtrando o DataFrame\n",
        "filtered_df = df[(df['series_name'] == 'ENT') & (df['episode_number'] == 'episode 0') & (df['character'] == 'Klaang')]"
      ],
      "metadata": {
        "id": "Qez2XvrowxdW"
      },
      "execution_count": null,
      "outputs": []
    }
  ]
}