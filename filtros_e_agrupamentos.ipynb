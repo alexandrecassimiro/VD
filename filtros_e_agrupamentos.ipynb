{
  "nbformat": 4,
  "nbformat_minor": 0,
  "metadata": {
    "colab": {
      "provenance": [],
      "authorship_tag": "ABX9TyNwFpRKfGKljULqJw5r7nS5",
      "include_colab_link": true
    },
    "kernelspec": {
      "name": "python3",
      "display_name": "Python 3"
    },
    "language_info": {
      "name": "python"
    }
  },
  "cells": [
    {
      "cell_type": "markdown",
      "metadata": {
        "id": "view-in-github",
        "colab_type": "text"
      },
      "source": [
        "<a href=\"https://colab.research.google.com/github/alexandrecassimiro/VD/blob/main/filtros_e_agrupamentos.ipynb\" target=\"_parent\"><img src=\"https://colab.research.google.com/assets/colab-badge.svg\" alt=\"Open In Colab\"/></a>"
      ]
    },
    {
      "cell_type": "code",
      "execution_count": null,
      "metadata": {
        "id": "jMA4YOnJ3sRy"
      },
      "outputs": [],
      "source": [
        "import pandas as pd\n",
        "import json\n",
        "\n",
        "# Ler o arquivo JSON\n",
        "with open('all_series_lines.json') as f:\n",
        "    all_series_lines = json.load(f)\n",
        "# Ler o arquivo JSON\n",
        "# with open(r'C:/Users/alexc/OneDrive/Particular/cursos/@Mestrado/VD/TF/all_series_lines.json') as f:\n",
        "#     all_series_lines = json.load(f)\n",
        "\n",
        "# Transformar o dicionário em um DataFrame\n",
        "df = pd.DataFrame([(series_name, episode_number, character, line) for series_name, episodes in all_series_lines.items()\n",
        "                   for episode_number, lines in episodes.items()\n",
        "                   for character, lines_list in lines.items()\n",
        "                   for line in lines_list],\n",
        "                  columns=['series_name', 'episode_number', 'character', 'line'])\n",
        "\n",
        "\n",
        "\n"
      ]
    },
    {
      "cell_type": "code",
      "source": [
        "# Verificar o DataFrame\n",
        "# print(df.head())\n",
        "# df.head()\n",
        "df"
      ],
      "metadata": {
        "colab": {
          "base_uri": "https://localhost:8080/",
          "height": 423
        },
        "id": "pHR5zBcw5X7-",
        "outputId": "d0c4839e-e7f4-44df-c7b5-678c17cd7ac1"
      },
      "execution_count": 11,
      "outputs": [
        {
          "output_type": "execute_result",
          "data": {
            "text/plain": [
              "       series_name episode_number character                   line\n",
              "0              ENT      episode 0    KLAANG                       \n",
              "1              ENT      episode 0    KLAANG                       \n",
              "2              ENT      episode 0    KLAANG  Pung ghap! Pung ghap!\n",
              "3              ENT      episode 0    KLAANG           DujDaj Hegh!\n",
              "4              ENT      episode 0    KLAANG         Tujpa'qyl Dun.\n",
              "...            ...            ...       ...                    ...\n",
              "266649         VOY    episode 159   SABRINA                 Ah ha.\n",
              "266650         VOY    episode 159   SABRINA  I don't remember you.\n",
              "266651         VOY    episode 159   SABRINA                   Why?\n",
              "266652         VOY    episode 159   SABRINA        For four years?\n",
              "266653         VOY    episode 159   SABRINA                 Ah ha.\n",
              "\n",
              "[266654 rows x 4 columns]"
            ],
            "text/html": [
              "\n",
              "  <div id=\"df-903bb075-3b8a-4c08-b265-830faeb35b79\">\n",
              "    <div class=\"colab-df-container\">\n",
              "      <div>\n",
              "<style scoped>\n",
              "    .dataframe tbody tr th:only-of-type {\n",
              "        vertical-align: middle;\n",
              "    }\n",
              "\n",
              "    .dataframe tbody tr th {\n",
              "        vertical-align: top;\n",
              "    }\n",
              "\n",
              "    .dataframe thead th {\n",
              "        text-align: right;\n",
              "    }\n",
              "</style>\n",
              "<table border=\"1\" class=\"dataframe\">\n",
              "  <thead>\n",
              "    <tr style=\"text-align: right;\">\n",
              "      <th></th>\n",
              "      <th>series_name</th>\n",
              "      <th>episode_number</th>\n",
              "      <th>character</th>\n",
              "      <th>line</th>\n",
              "    </tr>\n",
              "  </thead>\n",
              "  <tbody>\n",
              "    <tr>\n",
              "      <th>0</th>\n",
              "      <td>ENT</td>\n",
              "      <td>episode 0</td>\n",
              "      <td>KLAANG</td>\n",
              "      <td></td>\n",
              "    </tr>\n",
              "    <tr>\n",
              "      <th>1</th>\n",
              "      <td>ENT</td>\n",
              "      <td>episode 0</td>\n",
              "      <td>KLAANG</td>\n",
              "      <td></td>\n",
              "    </tr>\n",
              "    <tr>\n",
              "      <th>2</th>\n",
              "      <td>ENT</td>\n",
              "      <td>episode 0</td>\n",
              "      <td>KLAANG</td>\n",
              "      <td>Pung ghap! Pung ghap!</td>\n",
              "    </tr>\n",
              "    <tr>\n",
              "      <th>3</th>\n",
              "      <td>ENT</td>\n",
              "      <td>episode 0</td>\n",
              "      <td>KLAANG</td>\n",
              "      <td>DujDaj Hegh!</td>\n",
              "    </tr>\n",
              "    <tr>\n",
              "      <th>4</th>\n",
              "      <td>ENT</td>\n",
              "      <td>episode 0</td>\n",
              "      <td>KLAANG</td>\n",
              "      <td>Tujpa'qyl Dun.</td>\n",
              "    </tr>\n",
              "    <tr>\n",
              "      <th>...</th>\n",
              "      <td>...</td>\n",
              "      <td>...</td>\n",
              "      <td>...</td>\n",
              "      <td>...</td>\n",
              "    </tr>\n",
              "    <tr>\n",
              "      <th>266649</th>\n",
              "      <td>VOY</td>\n",
              "      <td>episode 159</td>\n",
              "      <td>SABRINA</td>\n",
              "      <td>Ah ha.</td>\n",
              "    </tr>\n",
              "    <tr>\n",
              "      <th>266650</th>\n",
              "      <td>VOY</td>\n",
              "      <td>episode 159</td>\n",
              "      <td>SABRINA</td>\n",
              "      <td>I don't remember you.</td>\n",
              "    </tr>\n",
              "    <tr>\n",
              "      <th>266651</th>\n",
              "      <td>VOY</td>\n",
              "      <td>episode 159</td>\n",
              "      <td>SABRINA</td>\n",
              "      <td>Why?</td>\n",
              "    </tr>\n",
              "    <tr>\n",
              "      <th>266652</th>\n",
              "      <td>VOY</td>\n",
              "      <td>episode 159</td>\n",
              "      <td>SABRINA</td>\n",
              "      <td>For four years?</td>\n",
              "    </tr>\n",
              "    <tr>\n",
              "      <th>266653</th>\n",
              "      <td>VOY</td>\n",
              "      <td>episode 159</td>\n",
              "      <td>SABRINA</td>\n",
              "      <td>Ah ha.</td>\n",
              "    </tr>\n",
              "  </tbody>\n",
              "</table>\n",
              "<p>266654 rows × 4 columns</p>\n",
              "</div>\n",
              "      <button class=\"colab-df-convert\" onclick=\"convertToInteractive('df-903bb075-3b8a-4c08-b265-830faeb35b79')\"\n",
              "              title=\"Convert this dataframe to an interactive table.\"\n",
              "              style=\"display:none;\">\n",
              "        \n",
              "  <svg xmlns=\"http://www.w3.org/2000/svg\" height=\"24px\"viewBox=\"0 0 24 24\"\n",
              "       width=\"24px\">\n",
              "    <path d=\"M0 0h24v24H0V0z\" fill=\"none\"/>\n",
              "    <path d=\"M18.56 5.44l.94 2.06.94-2.06 2.06-.94-2.06-.94-.94-2.06-.94 2.06-2.06.94zm-11 1L8.5 8.5l.94-2.06 2.06-.94-2.06-.94L8.5 2.5l-.94 2.06-2.06.94zm10 10l.94 2.06.94-2.06 2.06-.94-2.06-.94-.94-2.06-.94 2.06-2.06.94z\"/><path d=\"M17.41 7.96l-1.37-1.37c-.4-.4-.92-.59-1.43-.59-.52 0-1.04.2-1.43.59L10.3 9.45l-7.72 7.72c-.78.78-.78 2.05 0 2.83L4 21.41c.39.39.9.59 1.41.59.51 0 1.02-.2 1.41-.59l7.78-7.78 2.81-2.81c.8-.78.8-2.07 0-2.86zM5.41 20L4 18.59l7.72-7.72 1.47 1.35L5.41 20z\"/>\n",
              "  </svg>\n",
              "      </button>\n",
              "      \n",
              "  <style>\n",
              "    .colab-df-container {\n",
              "      display:flex;\n",
              "      flex-wrap:wrap;\n",
              "      gap: 12px;\n",
              "    }\n",
              "\n",
              "    .colab-df-convert {\n",
              "      background-color: #E8F0FE;\n",
              "      border: none;\n",
              "      border-radius: 50%;\n",
              "      cursor: pointer;\n",
              "      display: none;\n",
              "      fill: #1967D2;\n",
              "      height: 32px;\n",
              "      padding: 0 0 0 0;\n",
              "      width: 32px;\n",
              "    }\n",
              "\n",
              "    .colab-df-convert:hover {\n",
              "      background-color: #E2EBFA;\n",
              "      box-shadow: 0px 1px 2px rgba(60, 64, 67, 0.3), 0px 1px 3px 1px rgba(60, 64, 67, 0.15);\n",
              "      fill: #174EA6;\n",
              "    }\n",
              "\n",
              "    [theme=dark] .colab-df-convert {\n",
              "      background-color: #3B4455;\n",
              "      fill: #D2E3FC;\n",
              "    }\n",
              "\n",
              "    [theme=dark] .colab-df-convert:hover {\n",
              "      background-color: #434B5C;\n",
              "      box-shadow: 0px 1px 3px 1px rgba(0, 0, 0, 0.15);\n",
              "      filter: drop-shadow(0px 1px 2px rgba(0, 0, 0, 0.3));\n",
              "      fill: #FFFFFF;\n",
              "    }\n",
              "  </style>\n",
              "\n",
              "      <script>\n",
              "        const buttonEl =\n",
              "          document.querySelector('#df-903bb075-3b8a-4c08-b265-830faeb35b79 button.colab-df-convert');\n",
              "        buttonEl.style.display =\n",
              "          google.colab.kernel.accessAllowed ? 'block' : 'none';\n",
              "\n",
              "        async function convertToInteractive(key) {\n",
              "          const element = document.querySelector('#df-903bb075-3b8a-4c08-b265-830faeb35b79');\n",
              "          const dataTable =\n",
              "            await google.colab.kernel.invokeFunction('convertToInteractive',\n",
              "                                                     [key], {});\n",
              "          if (!dataTable) return;\n",
              "\n",
              "          const docLinkHtml = 'Like what you see? Visit the ' +\n",
              "            '<a target=\"_blank\" href=https://colab.research.google.com/notebooks/data_table.ipynb>data table notebook</a>'\n",
              "            + ' to learn more about interactive tables.';\n",
              "          element.innerHTML = '';\n",
              "          dataTable['output_type'] = 'display_data';\n",
              "          await google.colab.output.renderOutput(dataTable, element);\n",
              "          const docLink = document.createElement('div');\n",
              "          docLink.innerHTML = docLinkHtml;\n",
              "          element.appendChild(docLink);\n",
              "        }\n",
              "      </script>\n",
              "    </div>\n",
              "  </div>\n",
              "  "
            ]
          },
          "metadata": {},
          "execution_count": 11
        }
      ]
    },
    {
      "cell_type": "code",
      "source": [
        "df['series_name'].unique()"
      ],
      "metadata": {
        "colab": {
          "base_uri": "https://localhost:8080/"
        },
        "id": "U1CdgXky9CPF",
        "outputId": "04f3c2f2-ae71-4aed-c67d-290b2b1d7b84"
      },
      "execution_count": 23,
      "outputs": [
        {
          "output_type": "execute_result",
          "data": {
            "text/plain": [
              "array(['ENT', 'DS9', 'TOS', 'TAS', 'TNG', 'VOY'], dtype=object)"
            ]
          },
          "metadata": {},
          "execution_count": 23
        }
      ]
    },
    {
      "cell_type": "code",
      "source": [
        "df['episode_number'].unique()"
      ],
      "metadata": {
        "colab": {
          "base_uri": "https://localhost:8080/"
        },
        "id": "aCqbqxqc94xj",
        "outputId": "31a2ff35-ec56-4130-8ec3-0a0c7c990c85"
      },
      "execution_count": 24,
      "outputs": [
        {
          "output_type": "execute_result",
          "data": {
            "text/plain": [
              "array(['episode 0', 'episode 1', 'episode 2', 'episode 3', 'episode 4',\n",
              "       'episode 5', 'episode 6', 'episode 7', 'episode 8', 'episode 9',\n",
              "       'episode 10', 'episode 11', 'episode 12', 'episode 13',\n",
              "       'episode 14', 'episode 15', 'episode 16', 'episode 17',\n",
              "       'episode 18', 'episode 19', 'episode 20', 'episode 21',\n",
              "       'episode 22', 'episode 23', 'episode 24', 'episode 25',\n",
              "       'episode 26', 'episode 27', 'episode 28', 'episode 29',\n",
              "       'episode 30', 'episode 31', 'episode 32', 'episode 33',\n",
              "       'episode 34', 'episode 35', 'episode 36', 'episode 37',\n",
              "       'episode 38', 'episode 39', 'episode 40', 'episode 41',\n",
              "       'episode 42', 'episode 43', 'episode 44', 'episode 45',\n",
              "       'episode 46', 'episode 47', 'episode 48', 'episode 49',\n",
              "       'episode 50', 'episode 51', 'episode 52', 'episode 53',\n",
              "       'episode 54', 'episode 55', 'episode 56', 'episode 57',\n",
              "       'episode 58', 'episode 59', 'episode 60', 'episode 61',\n",
              "       'episode 62', 'episode 63', 'episode 64', 'episode 65',\n",
              "       'episode 66', 'episode 67', 'episode 68', 'episode 69',\n",
              "       'episode 70', 'episode 71', 'episode 72', 'episode 73',\n",
              "       'episode 74', 'episode 75', 'episode 76', 'episode 77',\n",
              "       'episode 78', 'episode 79', 'episode 80', 'episode 81',\n",
              "       'episode 82', 'episode 83', 'episode 84', 'episode 85',\n",
              "       'episode 86', 'episode 87', 'episode 88', 'episode 89',\n",
              "       'episode 90', 'episode 91', 'episode 92', 'episode 93',\n",
              "       'episode 94', 'episode 95', 'episode 96', 'episode 97',\n",
              "       'episode 98', 'episode 99', 'episode 100', 'episode 101',\n",
              "       'episode 102', 'episode 103', 'episode 104', 'episode 105',\n",
              "       'episode 106', 'episode 107', 'episode 108', 'episode 109',\n",
              "       'episode 110', 'episode 111', 'episode 112', 'episode 113',\n",
              "       'episode 114', 'episode 115', 'episode 116', 'episode 117',\n",
              "       'episode 118', 'episode 119', 'episode 120', 'episode 121',\n",
              "       'episode 122', 'episode 123', 'episode 124', 'episode 125',\n",
              "       'episode 126', 'episode 127', 'episode 128', 'episode 129',\n",
              "       'episode 130', 'episode 131', 'episode 132', 'episode 133',\n",
              "       'episode 134', 'episode 135', 'episode 136', 'episode 137',\n",
              "       'episode 138', 'episode 139', 'episode 140', 'episode 141',\n",
              "       'episode 142', 'episode 143', 'episode 144', 'episode 145',\n",
              "       'episode 146', 'episode 147', 'episode 148', 'episode 149',\n",
              "       'episode 150', 'episode 151', 'episode 152', 'episode 153',\n",
              "       'episode 154', 'episode 155', 'episode 156', 'episode 157',\n",
              "       'episode 158', 'episode 159', 'episode 160', 'episode 161',\n",
              "       'episode 162', 'episode 163', 'episode 164', 'episode 165',\n",
              "       'episode 166', 'episode 167', 'episode 168', 'episode 169',\n",
              "       'episode 170', 'episode 171', 'episode 172', 'episode 173',\n",
              "       'episode 174', 'episode 175'], dtype=object)"
            ]
          },
          "metadata": {},
          "execution_count": 24
        }
      ]
    },
    {
      "cell_type": "code",
      "source": [
        "df['character'].unique()"
      ],
      "metadata": {
        "colab": {
          "base_uri": "https://localhost:8080/"
        },
        "id": "RShJco7t96gg",
        "outputId": "7a4f3597-3242-4e4b-bcc9-291cccce16fd"
      },
      "execution_count": 25,
      "outputs": [
        {
          "output_type": "execute_result",
          "data": {
            "text/plain": [
              "array(['KLAANG', 'DOCK', 'ARCHER', ..., 'PHYSICIAN', 'KORATH', 'SABRINA'],\n",
              "      dtype=object)"
            ]
          },
          "metadata": {},
          "execution_count": 25
        }
      ]
    },
    {
      "cell_type": "code",
      "source": [
        "# Agrupar por series_name e episode_number e obter os valores exclusivos de character\n",
        "df.groupby(['series_name', 'episode_number'])['character'].unique()"
      ],
      "metadata": {
        "colab": {
          "base_uri": "https://localhost:8080/"
        },
        "id": "QgJhdOLp-0DX",
        "outputId": "4ce9a81c-dc08-4049-cad7-c522d1e6f7c7"
      },
      "execution_count": 26,
      "outputs": [
        {
          "output_type": "execute_result",
          "data": {
            "text/plain": [
              "series_name  episode_number\n",
              "DS9          episode 0         [JENNIFER, OPS, JASAD, PICARD, MAGGIE, DUKAT, ...\n",
              "             episode 1         [KIRA, SISKO, ODO, O'BRIEN, BASHIR, DAX, GARAK...\n",
              "             episode 10        [KIRA, SISKO, ODO, O'BRIEN, QUARK, BASHIR, DAX...\n",
              "             episode 100       [SISKO, CREWMAN, ODO, O'BRIEN, QUARK, BASHIR, ...\n",
              "             episode 101       [KIRA, SISKO, ODO, O'BRIEN, BASHIR, DAX, SECUR...\n",
              "                                                     ...                        \n",
              "VOY          episode 95        [JANEWAY, NEELIX, TORRES, KIM, COMPUTER, CHAKO...\n",
              "             episode 96        [JANEWAY, NEELIX, TORRES, KIM, COMPUTER, CHAKO...\n",
              "             episode 97        [JANEWAY, NEELIX, TORRES, KIM, COMPUTER, CHAKO...\n",
              "             episode 98        [JANEWAY, NEELIX, TORRES, KIM, COMPUTER, CHAKO...\n",
              "             episode 99        [JANEWAY, NEELIX, TORRES, KIM, COMPUTER, CHAKO...\n",
              "Name: character, Length: 708, dtype: object"
            ]
          },
          "metadata": {},
          "execution_count": 26
        }
      ]
    },
    {
      "cell_type": "code",
      "source": [
        "# filtrar por uma série\n",
        "sovoy =df.loc[df['series_name']=='VOY']\n",
        "sovoy"
      ],
      "metadata": {
        "colab": {
          "base_uri": "https://localhost:8080/",
          "height": 423
        },
        "id": "H7gDSx176-Vq",
        "outputId": "c891aca1-46bc-48dd-9e9f-7a8c99ce51fc"
      },
      "execution_count": 12,
      "outputs": [
        {
          "output_type": "execute_result",
          "data": {
            "text/plain": [
              "       series_name episode_number character  \\\n",
              "198319         VOY      episode 0   JANEWAY   \n",
              "198320         VOY      episode 0   JANEWAY   \n",
              "198321         VOY      episode 0   JANEWAY   \n",
              "198322         VOY      episode 0   JANEWAY   \n",
              "198323         VOY      episode 0   JANEWAY   \n",
              "...            ...            ...       ...   \n",
              "266649         VOY    episode 159   SABRINA   \n",
              "266650         VOY    episode 159   SABRINA   \n",
              "266651         VOY    episode 159   SABRINA   \n",
              "266652         VOY    episode 159   SABRINA   \n",
              "266653         VOY    episode 159   SABRINA   \n",
              "\n",
              "                                                     line  \n",
              "198319  Tom Paris? Kathryn Janeway. I served with your...  \n",
              "198320            About a job we'd like you to do for us.  \n",
              "198321  I've been told the Rehab Commission is very pl...  \n",
              "198322  Your father taught me a great deal. I was his ...  \n",
              "198323  I'm leaving on a mission to find a Maquis ship...  \n",
              "...                                                   ...  \n",
              "266649                                             Ah ha.  \n",
              "266650                              I don't remember you.  \n",
              "266651                                               Why?  \n",
              "266652                                    For four years?  \n",
              "266653                                             Ah ha.  \n",
              "\n",
              "[68335 rows x 4 columns]"
            ],
            "text/html": [
              "\n",
              "  <div id=\"df-0296fcaf-a1a3-4894-9d45-7624fb9033aa\">\n",
              "    <div class=\"colab-df-container\">\n",
              "      <div>\n",
              "<style scoped>\n",
              "    .dataframe tbody tr th:only-of-type {\n",
              "        vertical-align: middle;\n",
              "    }\n",
              "\n",
              "    .dataframe tbody tr th {\n",
              "        vertical-align: top;\n",
              "    }\n",
              "\n",
              "    .dataframe thead th {\n",
              "        text-align: right;\n",
              "    }\n",
              "</style>\n",
              "<table border=\"1\" class=\"dataframe\">\n",
              "  <thead>\n",
              "    <tr style=\"text-align: right;\">\n",
              "      <th></th>\n",
              "      <th>series_name</th>\n",
              "      <th>episode_number</th>\n",
              "      <th>character</th>\n",
              "      <th>line</th>\n",
              "    </tr>\n",
              "  </thead>\n",
              "  <tbody>\n",
              "    <tr>\n",
              "      <th>198319</th>\n",
              "      <td>VOY</td>\n",
              "      <td>episode 0</td>\n",
              "      <td>JANEWAY</td>\n",
              "      <td>Tom Paris? Kathryn Janeway. I served with your...</td>\n",
              "    </tr>\n",
              "    <tr>\n",
              "      <th>198320</th>\n",
              "      <td>VOY</td>\n",
              "      <td>episode 0</td>\n",
              "      <td>JANEWAY</td>\n",
              "      <td>About a job we'd like you to do for us.</td>\n",
              "    </tr>\n",
              "    <tr>\n",
              "      <th>198321</th>\n",
              "      <td>VOY</td>\n",
              "      <td>episode 0</td>\n",
              "      <td>JANEWAY</td>\n",
              "      <td>I've been told the Rehab Commission is very pl...</td>\n",
              "    </tr>\n",
              "    <tr>\n",
              "      <th>198322</th>\n",
              "      <td>VOY</td>\n",
              "      <td>episode 0</td>\n",
              "      <td>JANEWAY</td>\n",
              "      <td>Your father taught me a great deal. I was his ...</td>\n",
              "    </tr>\n",
              "    <tr>\n",
              "      <th>198323</th>\n",
              "      <td>VOY</td>\n",
              "      <td>episode 0</td>\n",
              "      <td>JANEWAY</td>\n",
              "      <td>I'm leaving on a mission to find a Maquis ship...</td>\n",
              "    </tr>\n",
              "    <tr>\n",
              "      <th>...</th>\n",
              "      <td>...</td>\n",
              "      <td>...</td>\n",
              "      <td>...</td>\n",
              "      <td>...</td>\n",
              "    </tr>\n",
              "    <tr>\n",
              "      <th>266649</th>\n",
              "      <td>VOY</td>\n",
              "      <td>episode 159</td>\n",
              "      <td>SABRINA</td>\n",
              "      <td>Ah ha.</td>\n",
              "    </tr>\n",
              "    <tr>\n",
              "      <th>266650</th>\n",
              "      <td>VOY</td>\n",
              "      <td>episode 159</td>\n",
              "      <td>SABRINA</td>\n",
              "      <td>I don't remember you.</td>\n",
              "    </tr>\n",
              "    <tr>\n",
              "      <th>266651</th>\n",
              "      <td>VOY</td>\n",
              "      <td>episode 159</td>\n",
              "      <td>SABRINA</td>\n",
              "      <td>Why?</td>\n",
              "    </tr>\n",
              "    <tr>\n",
              "      <th>266652</th>\n",
              "      <td>VOY</td>\n",
              "      <td>episode 159</td>\n",
              "      <td>SABRINA</td>\n",
              "      <td>For four years?</td>\n",
              "    </tr>\n",
              "    <tr>\n",
              "      <th>266653</th>\n",
              "      <td>VOY</td>\n",
              "      <td>episode 159</td>\n",
              "      <td>SABRINA</td>\n",
              "      <td>Ah ha.</td>\n",
              "    </tr>\n",
              "  </tbody>\n",
              "</table>\n",
              "<p>68335 rows × 4 columns</p>\n",
              "</div>\n",
              "      <button class=\"colab-df-convert\" onclick=\"convertToInteractive('df-0296fcaf-a1a3-4894-9d45-7624fb9033aa')\"\n",
              "              title=\"Convert this dataframe to an interactive table.\"\n",
              "              style=\"display:none;\">\n",
              "        \n",
              "  <svg xmlns=\"http://www.w3.org/2000/svg\" height=\"24px\"viewBox=\"0 0 24 24\"\n",
              "       width=\"24px\">\n",
              "    <path d=\"M0 0h24v24H0V0z\" fill=\"none\"/>\n",
              "    <path d=\"M18.56 5.44l.94 2.06.94-2.06 2.06-.94-2.06-.94-.94-2.06-.94 2.06-2.06.94zm-11 1L8.5 8.5l.94-2.06 2.06-.94-2.06-.94L8.5 2.5l-.94 2.06-2.06.94zm10 10l.94 2.06.94-2.06 2.06-.94-2.06-.94-.94-2.06-.94 2.06-2.06.94z\"/><path d=\"M17.41 7.96l-1.37-1.37c-.4-.4-.92-.59-1.43-.59-.52 0-1.04.2-1.43.59L10.3 9.45l-7.72 7.72c-.78.78-.78 2.05 0 2.83L4 21.41c.39.39.9.59 1.41.59.51 0 1.02-.2 1.41-.59l7.78-7.78 2.81-2.81c.8-.78.8-2.07 0-2.86zM5.41 20L4 18.59l7.72-7.72 1.47 1.35L5.41 20z\"/>\n",
              "  </svg>\n",
              "      </button>\n",
              "      \n",
              "  <style>\n",
              "    .colab-df-container {\n",
              "      display:flex;\n",
              "      flex-wrap:wrap;\n",
              "      gap: 12px;\n",
              "    }\n",
              "\n",
              "    .colab-df-convert {\n",
              "      background-color: #E8F0FE;\n",
              "      border: none;\n",
              "      border-radius: 50%;\n",
              "      cursor: pointer;\n",
              "      display: none;\n",
              "      fill: #1967D2;\n",
              "      height: 32px;\n",
              "      padding: 0 0 0 0;\n",
              "      width: 32px;\n",
              "    }\n",
              "\n",
              "    .colab-df-convert:hover {\n",
              "      background-color: #E2EBFA;\n",
              "      box-shadow: 0px 1px 2px rgba(60, 64, 67, 0.3), 0px 1px 3px 1px rgba(60, 64, 67, 0.15);\n",
              "      fill: #174EA6;\n",
              "    }\n",
              "\n",
              "    [theme=dark] .colab-df-convert {\n",
              "      background-color: #3B4455;\n",
              "      fill: #D2E3FC;\n",
              "    }\n",
              "\n",
              "    [theme=dark] .colab-df-convert:hover {\n",
              "      background-color: #434B5C;\n",
              "      box-shadow: 0px 1px 3px 1px rgba(0, 0, 0, 0.15);\n",
              "      filter: drop-shadow(0px 1px 2px rgba(0, 0, 0, 0.3));\n",
              "      fill: #FFFFFF;\n",
              "    }\n",
              "  </style>\n",
              "\n",
              "      <script>\n",
              "        const buttonEl =\n",
              "          document.querySelector('#df-0296fcaf-a1a3-4894-9d45-7624fb9033aa button.colab-df-convert');\n",
              "        buttonEl.style.display =\n",
              "          google.colab.kernel.accessAllowed ? 'block' : 'none';\n",
              "\n",
              "        async function convertToInteractive(key) {\n",
              "          const element = document.querySelector('#df-0296fcaf-a1a3-4894-9d45-7624fb9033aa');\n",
              "          const dataTable =\n",
              "            await google.colab.kernel.invokeFunction('convertToInteractive',\n",
              "                                                     [key], {});\n",
              "          if (!dataTable) return;\n",
              "\n",
              "          const docLinkHtml = 'Like what you see? Visit the ' +\n",
              "            '<a target=\"_blank\" href=https://colab.research.google.com/notebooks/data_table.ipynb>data table notebook</a>'\n",
              "            + ' to learn more about interactive tables.';\n",
              "          element.innerHTML = '';\n",
              "          dataTable['output_type'] = 'display_data';\n",
              "          await google.colab.output.renderOutput(dataTable, element);\n",
              "          const docLink = document.createElement('div');\n",
              "          docLink.innerHTML = docLinkHtml;\n",
              "          element.appendChild(docLink);\n",
              "        }\n",
              "      </script>\n",
              "    </div>\n",
              "  </div>\n",
              "  "
            ]
          },
          "metadata": {},
          "execution_count": 12
        }
      ]
    },
    {
      "cell_type": "code",
      "source": [
        "#contagem de personagens\n",
        "qtpersonagens = sovoy['character'].nunique()\n",
        "qtpersonagens"
      ],
      "metadata": {
        "colab": {
          "base_uri": "https://localhost:8080/"
        },
        "id": "qwqO5GNn72XR",
        "outputId": "d0f71076-af2f-45eb-f42e-99e26529bee5"
      },
      "execution_count": 30,
      "outputs": [
        {
          "output_type": "execute_result",
          "data": {
            "text/plain": [
              "746"
            ]
          },
          "metadata": {},
          "execution_count": 30
        }
      ]
    },
    {
      "cell_type": "code",
      "source": [
        "# personagens\n",
        "personagens = sovoy['character'].unique()\n",
        "personagens"
      ],
      "metadata": {
        "id": "hxz8A3k0AWAS"
      },
      "execution_count": null,
      "outputs": []
    },
    {
      "cell_type": "code",
      "source": [
        "# personagens de um episódio\n",
        "personagens = sovoy['character'].unique()\n",
        "personagens"
      ],
      "metadata": {
        "id": "nI6KD_L_AxiR"
      },
      "execution_count": null,
      "outputs": []
    },
    {
      "cell_type": "code",
      "source": [
        "\n",
        "#conseguir os personagens de um episódio de uma série\n",
        "voyEp0C = df.loc[(df['series_name'] == 'VOY') & (df['episode_number'] == 'episode 0')]\n",
        "print(voyEp0C['character'].unique())\n",
        "print(voyEp0C['character'].nunique())"
      ],
      "metadata": {
        "colab": {
          "base_uri": "https://localhost:8080/"
        },
        "id": "wvVPy5hJD7K9",
        "outputId": "c1b4a34f-0e5e-4c4d-d7ea-091f4d542995"
      },
      "execution_count": 51,
      "outputs": [
        {
          "output_type": "stream",
          "name": "stdout",
          "text": [
            "['JANEWAY' 'CARETAKER' 'MARK' 'CAVIT' 'NEELIX' 'DOCTOR' 'AUNT' 'CREWWOMAN'\n",
            " 'KAZON' 'TORRES' 'GUL' 'CAREY' 'DAGGIN' 'NURSE' 'ROLLINS' 'KIM' 'QUARK'\n",
            " 'STADI' 'TOSCAT' 'COMPUTER' 'KES' 'ADAH' 'JABIN' 'CHAKOTAY' 'OCAMPA'\n",
            " 'EVEK' 'EMH' 'DAUGHTER' 'TUVOK' 'PARIS']\n",
            "30\n"
          ]
        }
      ]
    },
    {
      "cell_type": "code",
      "source": [
        "#conseguir os episódio2 de uma série\n",
        "voyEps = df.loc[df['series_name'] == 'VOY']\n",
        "print(voyEps['episode_number'].nunique())\n",
        "print(voyEps['episode_number'].unique())\n",
        "\n"
      ],
      "metadata": {
        "colab": {
          "base_uri": "https://localhost:8080/"
        },
        "outputId": "68a6430d-8fa5-44e7-953e-2ebc7bc65318",
        "id": "HHVlG-m5Bm9c"
      },
      "execution_count": 53,
      "outputs": [
        {
          "output_type": "stream",
          "name": "stdout",
          "text": [
            "160\n",
            "['episode 0' 'episode 1' 'episode 2' 'episode 3' 'episode 4' 'episode 5'\n",
            " 'episode 6' 'episode 7' 'episode 8' 'episode 9' 'episode 10' 'episode 11'\n",
            " 'episode 12' 'episode 13' 'episode 14' 'episode 15' 'episode 16'\n",
            " 'episode 17' 'episode 18' 'episode 19' 'episode 20' 'episode 21'\n",
            " 'episode 22' 'episode 23' 'episode 24' 'episode 25' 'episode 26'\n",
            " 'episode 27' 'episode 28' 'episode 29' 'episode 30' 'episode 31'\n",
            " 'episode 32' 'episode 33' 'episode 34' 'episode 35' 'episode 36'\n",
            " 'episode 37' 'episode 38' 'episode 39' 'episode 40' 'episode 41'\n",
            " 'episode 42' 'episode 43' 'episode 44' 'episode 45' 'episode 46'\n",
            " 'episode 47' 'episode 48' 'episode 49' 'episode 50' 'episode 51'\n",
            " 'episode 52' 'episode 53' 'episode 54' 'episode 55' 'episode 56'\n",
            " 'episode 57' 'episode 58' 'episode 59' 'episode 60' 'episode 61'\n",
            " 'episode 62' 'episode 63' 'episode 64' 'episode 65' 'episode 66'\n",
            " 'episode 67' 'episode 68' 'episode 69' 'episode 70' 'episode 71'\n",
            " 'episode 72' 'episode 73' 'episode 74' 'episode 75' 'episode 76'\n",
            " 'episode 77' 'episode 78' 'episode 79' 'episode 80' 'episode 81'\n",
            " 'episode 82' 'episode 83' 'episode 84' 'episode 85' 'episode 86'\n",
            " 'episode 87' 'episode 88' 'episode 89' 'episode 90' 'episode 91'\n",
            " 'episode 92' 'episode 93' 'episode 94' 'episode 95' 'episode 96'\n",
            " 'episode 97' 'episode 98' 'episode 99' 'episode 100' 'episode 101'\n",
            " 'episode 102' 'episode 103' 'episode 104' 'episode 105' 'episode 106'\n",
            " 'episode 107' 'episode 108' 'episode 109' 'episode 110' 'episode 111'\n",
            " 'episode 112' 'episode 113' 'episode 114' 'episode 115' 'episode 116'\n",
            " 'episode 117' 'episode 118' 'episode 119' 'episode 120' 'episode 121'\n",
            " 'episode 122' 'episode 123' 'episode 124' 'episode 125' 'episode 126'\n",
            " 'episode 127' 'episode 128' 'episode 129' 'episode 130' 'episode 131'\n",
            " 'episode 132' 'episode 133' 'episode 134' 'episode 135' 'episode 136'\n",
            " 'episode 137' 'episode 138' 'episode 139' 'episode 140' 'episode 141'\n",
            " 'episode 142' 'episode 143' 'episode 144' 'episode 145' 'episode 146'\n",
            " 'episode 147' 'episode 148' 'episode 149' 'episode 150' 'episode 151'\n",
            " 'episode 152' 'episode 153' 'episode 154' 'episode 155' 'episode 156'\n",
            " 'episode 157' 'episode 158' 'episode 159']\n"
          ]
        }
      ]
    }
  ]
}