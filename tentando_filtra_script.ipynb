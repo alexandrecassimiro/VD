{
  "nbformat": 4,
  "nbformat_minor": 0,
  "metadata": {
    "colab": {
      "provenance": [],
      "authorship_tag": "ABX9TyPM9Nh0Kk3puv0NykTKJdmQ",
      "include_colab_link": true
    },
    "kernelspec": {
      "name": "python3",
      "display_name": "Python 3"
    },
    "language_info": {
      "name": "python"
    }
  },
  "cells": [
    {
      "cell_type": "markdown",
      "metadata": {
        "id": "view-in-github",
        "colab_type": "text"
      },
      "source": [
        "<a href=\"https://colab.research.google.com/github/alexandrecassimiro/VD/blob/main/tentando_filtra_script.ipynb\" target=\"_parent\"><img src=\"https://colab.research.google.com/assets/colab-badge.svg\" alt=\"Open In Colab\"/></a>"
      ]
    },
    {
      "cell_type": "code",
      "source": [
        "import json\n",
        "\n",
        "# Ler o arquivo JSON com as informações sobre as séries e episódios\n",
        "with open('/content/all_series_lines.json', 'r') as f:\n",
        "    all_series_line = json.load(f)\n",
        "\n",
        "# Criar um novo dicionário para armazenar as informações filtradas\n",
        "filtered_series_line = {}\n",
        "\n",
        "# Verificar se a série ENT existe no arquivo original\n",
        "if 'ENT' in all_series_line:\n",
        "    # Verificar se o episódio 0 existe na série ENT\n",
        "    if '0' in all_series_line['ENT']:\n",
        "        # Verificar se o personagem KLAANG existe no episódio 0 da série ENT\n",
        "        if 'KLAANG' in all_series_line['ENT']['0']:\n",
        "            # Adicionar as informações do personagem KLAANG ao dicionário filtrado\n",
        "            filtered_series_line['ENT'] = {'0': {'KLAANG': all_series_line['ENT']['0']['KLAANG']}}\n",
        "\n",
        "# Escrever as informações filtradas em um novo arquivo JSON\n",
        "with open('filtered_series_line.json', 'w') as f:\n",
        "    json.dump(filtered_series_line, f)\n"
      ],
      "metadata": {
        "id": "d9vxmZAnMye-"
      },
      "execution_count": 2,
      "outputs": []
    },
    {
      "cell_type": "code",
      "source": [
        "all.series_line.head()\n"
      ],
      "metadata": {
        "colab": {
          "base_uri": "https://localhost:8080/",
          "height": 313
        },
        "id": "FzNhqvgqOj6h",
        "outputId": "c66f033f-37de-4309-ef71-91cd26986b25"
      },
      "execution_count": 7,
      "outputs": [
        {
          "output_type": "error",
          "ename": "AttributeError",
          "evalue": "ignored",
          "traceback": [
            "\u001b[0;31m---------------------------------------------------------------------------\u001b[0m",
            "\u001b[0;31mAttributeError\u001b[0m                            Traceback (most recent call last)",
            "\u001b[0;32m<ipython-input-6-87d835ef89ad>\u001b[0m in \u001b[0;36m<cell line: 1>\u001b[0;34m()\u001b[0m\n\u001b[0;32m----> 1\u001b[0;31m \u001b[0mall\u001b[0m\u001b[0;34m.\u001b[0m\u001b[0mseries_line\u001b[0m\u001b[0;34m.\u001b[0m\u001b[0mhead\u001b[0m\u001b[0;34m(\u001b[0m\u001b[0;34m)\u001b[0m\u001b[0;34m\u001b[0m\u001b[0;34m\u001b[0m\u001b[0m\n\u001b[0m",
            "\u001b[0;31mAttributeError\u001b[0m: 'builtin_function_or_method' object has no attribute 'series_line'"
          ]
        },
        {
          "output_type": "error",
          "ename": "AttributeError",
          "evalue": "ignored",
          "traceback": [
            "\u001b[0;31m---------------------------------------------------------------------------\u001b[0m",
            "\u001b[0;31mAttributeError\u001b[0m                            Traceback (most recent call last)",
            "\u001b[0;32m<ipython-input-7-87d835ef89ad>\u001b[0m in \u001b[0;36m<cell line: 1>\u001b[0;34m()\u001b[0m\n\u001b[0;32m----> 1\u001b[0;31m \u001b[0mall\u001b[0m\u001b[0;34m.\u001b[0m\u001b[0mseries_line\u001b[0m\u001b[0;34m.\u001b[0m\u001b[0mhead\u001b[0m\u001b[0;34m(\u001b[0m\u001b[0;34m)\u001b[0m\u001b[0;34m\u001b[0m\u001b[0;34m\u001b[0m\u001b[0m\n\u001b[0m",
            "\u001b[0;31mAttributeError\u001b[0m: 'builtin_function_or_method' object has no attribute 'series_line'"
          ]
        }
      ]
    }
  ]
}